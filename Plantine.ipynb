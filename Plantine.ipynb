{
 "cells": [
  {
   "cell_type": "code",
   "execution_count": 34,
   "metadata": {},
   "outputs": [],
   "source": [
    "import cv2\n",
    "import numpy as np"
   ]
  },
  {
   "cell_type": "code",
   "execution_count": 27,
   "metadata": {},
   "outputs": [],
   "source": [
    "def averagecolor(image):\n",
    "    return np.mean(image, axis=(0, 1))"
   ]
  },
  {
   "cell_type": "code",
   "execution_count": 28,
   "metadata": {},
   "outputs": [],
   "source": [
    "from sklearn.metrics import classification_report\n",
    "realtestY = np.array(['jackfruit','jackfruit','jackfruit','jackfruit','jackfruit','jackfruit','jackfruit','jackfruit','jackfruit','jackfruit','jackfruit','jackfruit','jackfruit','jackfruit','jackfruit','jackfruit','jackfruit','jackfruit','jackfruit','jackfruit','mango','mango','mango','mango','mango','mango','mango','mango','mango','mango','mango','mango','mango','mango','mango','mango','mango','mango','mango','mango','mint','mint','mint','mint','mint','mint','mint','mint','mint','mint','mint','mint','mint','mint','mint','mint','mint','mint','mint','mint','neem','neem','neem','neem','neem','neem','neem','neem','neem','neem','neem','neem','neem','neem','neem','neem','neem','neem','neem','neem','tulsi','tulsi','tulsi','tulsi','tulsi','tulsi','tulsi','tulsi','tulsi','tulsi','tulsi','tulsi','tulsi','tulsi','tulsi','tulsi','tulsi','tulsi','tulsi','tulsi'])\n",
    "def evaluateaccuracy(filenames,predictedY):\n",
    "    predictedY = np.array(predictedY)\n",
    "    if (np.sum(realtestY!=predictedY)>0):\n",
    "        print (\"Wrong Predictions: (filename, labelled, predicted) \")\n",
    "        print (np.dstack([filenames,realtestY,predictedY]).squeeze()[(realtestY!=predictedY)])\n",
    "    # Calculate those predictions that match (correct), as a percentage of total predictions\n",
    "    return \"Correct :\"+ str(np.sum(realtestY==predictedY)) + \". Wrong: \"+str(np.sum(realtestY!=predictedY)) + \". Correctly Classified: \" + str(np.sum(realtestY==predictedY)*100/len(predictedY))+\"%\""
   ]
  },
  {
   "cell_type": "code",
   "execution_count": 30,
   "metadata": {},
   "outputs": [
    {
     "name": "stdout",
     "output_type": "stream",
     "text": [
      "Loading training images for the label: jackfruit\n",
      "Loading training images for the label: tulsi\n",
      "Loading training images for the label: mango\n",
      "Loading training images for the label: mint\n",
      "Loading training images for the label: neem\n"
     ]
    }
   ],
   "source": [
    "trainX2 = []\n",
    "trainY2 = []\n",
    "import os\n",
    "\n",
    "# Let's loop through the training images in the 4 folders in the image subdirectory\n",
    "path = \"train/\"\n",
    "for label in ('jackfruit','tulsi','mango','mint','neem'):\n",
    "    print (\"Loading training images for the label: \"+label)\n",
    "    \n",
    "    #Load all images inside the subfolder\n",
    "    for filename in os.listdir(path+label+\"/\"): \n",
    "        img = cv2.imread(path+label+\"/\"+filename)\n",
    "        img_features = averagecolor(img)\n",
    "        trainX2.append(img_features)\n",
    "        trainY2.append(label)"
   ]
  },
  {
   "cell_type": "code",
   "execution_count": 31,
   "metadata": {},
   "outputs": [
    {
     "data": {
      "text/plain": [
       "SVC()"
      ]
     },
     "execution_count": 31,
     "metadata": {},
     "output_type": "execute_result"
    }
   ],
   "source": [
    "from sklearn.preprocessing import LabelEncoder  #encode labels into numerical\n",
    "encoder = LabelEncoder()                        #encode labels into numerical\n",
    "encodedtrainY2 = encoder.fit_transform(trainY2) #encode labels into numerical\n",
    "\n",
    "from sklearn import svm\n",
    "model = svm.SVC(gamma=\"scale\", decision_function_shape='ovr')\n",
    "model.fit(trainX2, encodedtrainY2)"
   ]
  },
  {
   "cell_type": "code",
   "execution_count": 32,
   "metadata": {},
   "outputs": [
    {
     "name": "stdout",
     "output_type": "stream",
     "text": [
      "jackfruit (1).jpg: jackfruit\n",
      "jackfruit (10).jpg: jackfruit\n",
      "jackfruit (11).jpg: jackfruit\n",
      "jackfruit (12).jpg: jackfruit\n",
      "jackfruit (13).jpg: jackfruit\n",
      "jackfruit (14).jpg: jackfruit\n",
      "jackfruit (15).jpg: jackfruit\n",
      "jackfruit (16).jpg: jackfruit\n",
      "jackfruit (17).jpg: jackfruit\n",
      "jackfruit (18).jpg: jackfruit\n",
      "jackfruit (19).jpg: jackfruit\n",
      "jackfruit (2).jpg: jackfruit\n",
      "jackfruit (20).jpg: jackfruit\n",
      "jackfruit (3).jpg: jackfruit\n",
      "jackfruit (4).jpg: jackfruit\n",
      "jackfruit (5).jpg: jackfruit\n",
      "jackfruit (6).jpg: jackfruit\n",
      "jackfruit (7).jpg: jackfruit\n",
      "jackfruit (8).jpg: jackfruit\n",
      "jackfruit (9).jpg: jackfruit\n",
      "mango (1).jpg: mango\n",
      "mango (10).jpg: mango\n",
      "mango (11).jpg: mango\n",
      "mango (12).jpg: mango\n",
      "mango (13).jpg: mango\n",
      "mango (14).jpg: mango\n",
      "mango (15).jpg: mango\n",
      "mango (16).jpg: mango\n",
      "mango (17).jpg: mango\n",
      "mango (18).jpg: mango\n",
      "mango (19).jpg: mango\n",
      "mango (2).jpg: mango\n",
      "mango (20).jpg: mango\n",
      "mango (3).jpg: mango\n",
      "mango (4).jpg: mango\n",
      "mango (5).jpg: mango\n",
      "mango (6).jpg: mango\n",
      "mango (7).jpg: mango\n",
      "mango (8).jpg: mango\n",
      "mango (9).jpg: mango\n",
      "mint (1).jpg: mint\n",
      "mint (10).jpg: mint\n",
      "mint (11).jpg: mint\n",
      "mint (12).jpg: mint\n",
      "mint (13).jpg: mint\n",
      "mint (14).jpg: mint\n",
      "mint (15).jpg: mint\n",
      "mint (16).jpg: mint\n",
      "mint (17).jpg: mint\n",
      "mint (18).jpg: mint\n",
      "mint (19).jpg: mint\n",
      "mint (2).jpg: mint\n",
      "mint (20).jpg: mint\n",
      "mint (3).jpg: mint\n",
      "mint (4).jpg: mint\n",
      "mint (5).jpg: mint\n",
      "mint (6).jpg: mint\n",
      "mint (7).jpg: mint\n",
      "mint (8).jpg: mint\n",
      "mint (9).jpg: mint\n",
      "neem (1).jpg: neem\n",
      "neem (10).jpg: neem\n",
      "neem (11).jpg: neem\n",
      "neem (12).jpg: neem\n",
      "neem (13).jpg: neem\n",
      "neem (14).jpg: neem\n",
      "neem (15).jpg: neem\n",
      "neem (16).jpg: neem\n",
      "neem (17).jpg: neem\n",
      "neem (18).jpg: neem\n",
      "neem (19).jpg: neem\n",
      "neem (2).jpg: neem\n",
      "neem (20).jpg: neem\n",
      "neem (3).jpg: neem\n",
      "neem (4).jpg: neem\n",
      "neem (5).jpg: neem\n",
      "neem (6).jpg: neem\n",
      "neem (7).jpg: neem\n",
      "neem (8).jpg: neem\n",
      "neem (9).jpg: neem\n",
      "tulsi (1).jpg: tulsi\n",
      "tulsi (10).jpg: tulsi\n",
      "tulsi (11).jpg: tulsi\n",
      "tulsi (12).jpg: tulsi\n",
      "tulsi (13).jpg: tulsi\n",
      "tulsi (14).jpg: tulsi\n",
      "tulsi (15).jpg: tulsi\n",
      "tulsi (16).jpg: tulsi\n",
      "tulsi (17).jpg: tulsi\n",
      "tulsi (18).jpg: tulsi\n",
      "tulsi (19).jpg: tulsi\n",
      "tulsi (2).jpg: tulsi\n",
      "tulsi (20).jpg: tulsi\n",
      "tulsi (3).jpg: tulsi\n",
      "tulsi (4).jpg: tulsi\n",
      "tulsi (5).jpg: tulsi\n",
      "tulsi (6).jpg: tulsi\n",
      "tulsi (7).jpg: tulsi\n",
      "tulsi (8).jpg: tulsi\n",
      "tulsi (9).jpg: tulsi\n",
      "\n",
      "              precision    recall  f1-score   support\n",
      "\n",
      "   jackfruit       1.00      1.00      1.00        20\n",
      "       mango       1.00      1.00      1.00        20\n",
      "        mint       1.00      1.00      1.00        20\n",
      "        neem       1.00      1.00      1.00        20\n",
      "       tulsi       1.00      1.00      1.00        20\n",
      "\n",
      "    accuracy                           1.00       100\n",
      "   macro avg       1.00      1.00      1.00       100\n",
      "weighted avg       1.00      1.00      1.00       100\n",
      "\n",
      "Correct :100. Wrong: 0. Correctly Classified: 100.0%\n"
     ]
    }
   ],
   "source": [
    "import os\n",
    "path = \"images/\"\n",
    "filenames = []\n",
    "predictedY = []\n",
    "for filename in os.listdir(path):\n",
    "    img = cv2.imread(path+filename)\n",
    "    img_features = averagecolor(img)\n",
    "    calculated_distances = []\n",
    "    for card in (trainX2):\n",
    "        calculated_distances.append(np.linalg.norm(img_features-card))\n",
    "    prediction =  trainY2[np.argmin(calculated_distances)]\n",
    "    \n",
    "    print (filename + \": \" + prediction)\n",
    "    filenames.append(filename)\n",
    "    predictedY.append(prediction)\n",
    "\n",
    "# Evaluate Accuracy (the sklearn package provides a useful report)\n",
    "print ()\n",
    "print(classification_report(realtestY, predictedY))\n",
    "\n",
    "# Evaluate Accuracy\n",
    "print (evaluateaccuracy(filenames,predictedY))"
   ]
  },
  {
   "cell_type": "code",
   "execution_count": 35,
   "metadata": {},
   "outputs": [
    {
     "name": "stdout",
     "output_type": "stream",
     "text": [
      "Plant: mint\n"
     ]
    }
   ],
   "source": [
    "import tkinter as tk\n",
    "from tkinter import filedialog, Text\n",
    "import os\n",
    "\n",
    "root=tk.Tk()\n",
    "images=[]\n",
    "\n",
    "def image():\n",
    "    for widget in frame.winfo_children():\n",
    "            widget.destroy()\n",
    "            \n",
    "    filename=filedialog.askopenfilename(initialdir=\"/\",title=\"select file\",\n",
    "                                        filetypes=((\"image\",\"*.jpg\"),(\"all files\",\"*.*\")))\n",
    "    images.append(filename)\n",
    "    for image in images:\n",
    "        label=tk.Label(frame,text=image,bg='grey')\n",
    "        label.pack()\n",
    "        imagenew=cv2.imread(image)\n",
    "        imagenew_features = averagecolor(imagenew)\n",
    "        calculated_distances = []\n",
    "        for card in (trainX2):\n",
    "            calculated_distances.append(np.linalg.norm(imagenew_features-card))\n",
    "        print(\"Plant: \"+str(trainY2[np.argmin(calculated_distances)]))\n",
    "        \n",
    "    root.destroy()\n",
    "\n",
    "canvas=tk.Canvas(root,height=500,width=700,bg=\"#263D42\")\n",
    "canvas.pack()\n",
    "\n",
    "frame=tk.Frame(root,bg=\"white\")\n",
    "frame.place(relwidth=0.8,relheight=0.8,relx=0.1,rely=0.1)\n",
    "\n",
    "openFile=tk.Button(root,text=\"open image\",padx=10,pady=5,fg=\"white\",bg=\"#263D42\", command=image)\n",
    "openFile.pack()\n",
    "\n",
    "root.mainloop()"
   ]
  },
  {
   "cell_type": "code",
   "execution_count": null,
   "metadata": {},
   "outputs": [],
   "source": []
  }
 ],
 "metadata": {
  "kernelspec": {
   "display_name": "Python 3",
   "language": "python",
   "name": "python3"
  },
  "language_info": {
   "codemirror_mode": {
    "name": "ipython",
    "version": 3
   },
   "file_extension": ".py",
   "mimetype": "text/x-python",
   "name": "python",
   "nbconvert_exporter": "python",
   "pygments_lexer": "ipython3",
   "version": "3.8.5"
  }
 },
 "nbformat": 4,
 "nbformat_minor": 4
}
